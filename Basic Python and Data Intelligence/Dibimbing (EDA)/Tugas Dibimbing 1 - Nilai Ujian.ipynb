{
  "cells": [
    {
      "cell_type": "markdown",
      "id": "39bf7b14",
      "metadata": {
        "id": "39bf7b14"
      },
      "source": [
        "## Buatlah sebuah program yang:\n",
        "\n",
        "   1. Meminta input dari pengguna:\n",
        "\n",
        "       - Nama mahasiswa\n",
        "\n",
        "       - NIM mahasiswa\n",
        "\n",
        "       - Nilai ujian (dalam angka, 0–100)\n",
        "\n",
        "   2. Cek dan tampilkan tipe data dari setiap input.\n",
        "\n",
        "   3. Gunakan if-elif-else untuk menentukan kategori nilai, dengan kriteria sebagai berikut:\n",
        "   \n",
        "```\n",
        "Nilai | Kategori\n",
        "85 - 100 | A (Sangat Baik)\n",
        "75 - 84 | B (Baik)\n",
        "60 - 74 | C (Cukup)\n",
        "40 - 59 | D (Kurang)\n",
        "< 40 | E (Sangat Kurang)\n",
        "```\n",
        "\n",
        "```\n",
        "==== Ekspektasi Output Jawaban : =====\n",
        "Masukkan nama mahasiswa: Sarah\n",
        "Masukkan NIM: 12345678\n",
        "Masukkan nilai ujian (0-100): 81\n",
        "\n",
        "Nama: Sarah (type: <class 'str'>)\n",
        "NIM: 12345678 (type: <class 'str'>)\n",
        "Nilai: 81 (type: <class 'int'>)\n",
        "\n",
        "Hasil Evaluasi:\n",
        "Mahasiswa: Sarah (NIM: 12345678)\n",
        "Nilai Ujian: 81\n",
        "Kategori Nilai: B (Baik)\n",
        "```"
      ]
    },
    {
      "cell_type": "code",
      "execution_count": 9,
      "id": "e2ab644c",
      "metadata": {
        "id": "e2ab644c"
      },
      "outputs": [],
      "source": [
        "def main(nama, nim, nilai):\n",
        "\n",
        "    print(f\"Nama: {nama} (type: {type(nama)})\\nNIM: {nim} (type: {type(nim)})\\nNilai Ujian: {nilai} (type: {type(nilai)})\\n\")\n",
        "\n",
        "    if(nilai > 100 or nilai < 0):\n",
        "        return print(\"Terdapat kesalhaan pada input!\")\n",
        "    elif(nilai >= 85):\n",
        "        grade = \"A (Sangat Baik)\"\n",
        "    elif(nilai >= 75):\n",
        "        grade = \"B (Baik)\"\n",
        "    elif(nilai >= 60):\n",
        "        grade = \"C (Cukup)\"\n",
        "    elif(nilai >= 40):\n",
        "        grade = \"D (Buruk)\"\n",
        "    else:\n",
        "        grade = \"E (Sangat Buruk)\"\n",
        "\n",
        "    return print(f\"Hasil Evaluasi:\\nMahasiswa: {nama} (NIM: {nim})\\nNilai Ujian: {nilai}\\nKategori Nilai: {grade}\")"
      ]
    },
    {
      "cell_type": "code",
      "execution_count": 10,
      "id": "7cad3f24",
      "metadata": {},
      "outputs": [
        {
          "name": "stdout",
          "output_type": "stream",
          "text": [
            "Nama: Sarah (type: <class 'str'>)\n",
            "NIM: 12345678 (type: <class 'str'>)\n",
            "Nilai Ujian: 81 (type: <class 'int'>)\n",
            "\n",
            "Hasil Evaluasi:\n",
            "Mahasiswa: Sarah (NIM: 12345678)\n",
            "Nilai Ujian: 81\n",
            "Kategori Nilai: B (Baik)\n"
          ]
        }
      ],
      "source": [
        "nama = input(\"Masukkan nama mahasiswa: \")\n",
        "nim = input(\"Masukkan NIM mahasiswa: \")\n",
        "nilai = int(input(\"Masukkan nilai ujian: \"))\n",
        "main(nama, nim, nilai)"
      ]
    }
  ],
  "metadata": {
    "colab": {
      "provenance": []
    },
    "kernelspec": {
      "display_name": "Python 3",
      "language": "python",
      "name": "python3"
    },
    "language_info": {
      "codemirror_mode": {
        "name": "ipython",
        "version": 3
      },
      "file_extension": ".py",
      "mimetype": "text/x-python",
      "name": "python",
      "nbconvert_exporter": "python",
      "pygments_lexer": "ipython3",
      "version": "3.13.2"
    }
  },
  "nbformat": 4,
  "nbformat_minor": 5
}
