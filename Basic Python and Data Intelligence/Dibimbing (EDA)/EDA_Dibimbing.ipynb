{
  "cells": [
    {
      "cell_type": "markdown",
      "id": "9b09900f",
      "metadata": {
        "id": "9b09900f"
      },
      "source": [
        "## Investigasi sampel data titanic berikut dengan cara :\n",
        "1. Cek secara head, tail, sample, info lalu observasi apa yang bisa anda peroleh ?\n",
        "2. Lakukan Statistical Summary dengan mengekstrak informasi yang didapat dari observasi anda ?\n",
        "3. Cek apakah ada duplikat dan bagaimana handlenya ?\n",
        "4. Cek apakah ada missing value, berapa persentasenya jika ada, dan bagaimana cara handlenya ?"
      ]
    },
    {
      "cell_type": "markdown",
      "id": "7141cb6c",
      "metadata": {
        "id": "7141cb6c"
      },
      "source": [
        "## Import Libraries"
      ]
    },
    {
      "cell_type": "code",
      "execution_count": 123,
      "id": "d81cf831",
      "metadata": {
        "id": "d81cf831"
      },
      "outputs": [],
      "source": [
        "import numpy as np\n",
        "import pandas as pd\n",
        "import seaborn as sns\n",
        "import matplotlib.pyplot as plt\n",
        "pd.set_option(\"display.max_columns\", None)\n",
        "pd.set_option(\"display.max_rows\", None)"
      ]
    },
    {
      "cell_type": "code",
      "execution_count": 124,
      "id": "1f195200",
      "metadata": {
        "colab": {
          "base_uri": "https://localhost:8080/",
          "height": 206
        },
        "id": "1f195200",
        "outputId": "32a5bf25-9b0a-4e8a-ed0a-6bfa07175369"
      },
      "outputs": [
        {
          "data": {
            "text/html": [
              "<div>\n",
              "<style scoped>\n",
              "    .dataframe tbody tr th:only-of-type {\n",
              "        vertical-align: middle;\n",
              "    }\n",
              "\n",
              "    .dataframe tbody tr th {\n",
              "        vertical-align: top;\n",
              "    }\n",
              "\n",
              "    .dataframe thead th {\n",
              "        text-align: right;\n",
              "    }\n",
              "</style>\n",
              "<table border=\"1\" class=\"dataframe\">\n",
              "  <thead>\n",
              "    <tr style=\"text-align: right;\">\n",
              "      <th></th>\n",
              "      <th>survived</th>\n",
              "      <th>name</th>\n",
              "      <th>sex</th>\n",
              "      <th>age</th>\n",
              "    </tr>\n",
              "  </thead>\n",
              "  <tbody>\n",
              "    <tr>\n",
              "      <th>0</th>\n",
              "      <td>1</td>\n",
              "      <td>Allen, Miss. Elisabeth Walton</td>\n",
              "      <td>female</td>\n",
              "      <td>29.0000</td>\n",
              "    </tr>\n",
              "    <tr>\n",
              "      <th>1</th>\n",
              "      <td>1</td>\n",
              "      <td>Allison, Master. Hudson Trevor</td>\n",
              "      <td>male</td>\n",
              "      <td>0.9167</td>\n",
              "    </tr>\n",
              "    <tr>\n",
              "      <th>2</th>\n",
              "      <td>0</td>\n",
              "      <td>Allison, Miss. Helen Loraine</td>\n",
              "      <td>female</td>\n",
              "      <td>2.0000</td>\n",
              "    </tr>\n",
              "    <tr>\n",
              "      <th>3</th>\n",
              "      <td>0</td>\n",
              "      <td>Allison, Mr. Hudson Joshua Creighton</td>\n",
              "      <td>male</td>\n",
              "      <td>30.0000</td>\n",
              "    </tr>\n",
              "    <tr>\n",
              "      <th>4</th>\n",
              "      <td>0</td>\n",
              "      <td>Allison, Mrs. Hudson J C (Bessie Waldo Daniels)</td>\n",
              "      <td>female</td>\n",
              "      <td>25.0000</td>\n",
              "    </tr>\n",
              "  </tbody>\n",
              "</table>\n",
              "</div>"
            ],
            "text/plain": [
              "   survived                                             name     sex      age\n",
              "0         1                    Allen, Miss. Elisabeth Walton  female  29.0000\n",
              "1         1                   Allison, Master. Hudson Trevor    male   0.9167\n",
              "2         0                     Allison, Miss. Helen Loraine  female   2.0000\n",
              "3         0             Allison, Mr. Hudson Joshua Creighton    male  30.0000\n",
              "4         0  Allison, Mrs. Hudson J C (Bessie Waldo Daniels)  female  25.0000"
            ]
          },
          "execution_count": 124,
          "metadata": {},
          "output_type": "execute_result"
        }
      ],
      "source": [
        "# import data\n",
        "df = pd.read_excel('titanic.xlsx')\n",
        "df.head()"
      ]
    },
    {
      "cell_type": "markdown",
      "id": "gA51GVhgXyVz",
      "metadata": {
        "id": "gA51GVhgXyVz"
      },
      "source": [
        "## EDA (Exploratory Data Analysis)\n",
        "\n",
        "In EDA, i know we have to do five steps\n",
        "1. Check Data Types\n",
        "2. Check Missing Values\n",
        "3. Check Duplicated\n",
        "4. Check Inconsistent Data\n",
        "5. Check Outlier\n",
        "\n",
        "First, i need to know about the data. There are four columns (Survived, Name, Sex, and Age). Then, i have to know if the types is correct or there is something wrong that i can change."
      ]
    },
    {
      "cell_type": "markdown",
      "id": "0kDm1z_FSIgV",
      "metadata": {
        "id": "0kDm1z_FSIgV"
      },
      "source": [
        "### Handling Data Types"
      ]
    },
    {
      "cell_type": "code",
      "execution_count": 125,
      "id": "1ae2a6de",
      "metadata": {
        "colab": {
          "base_uri": "https://localhost:8080/"
        },
        "id": "1ae2a6de",
        "outputId": "178ce7a2-4169-4241-b5f2-8196337bff80"
      },
      "outputs": [
        {
          "name": "stdout",
          "output_type": "stream",
          "text": [
            "<class 'pandas.core.frame.DataFrame'>\n",
            "RangeIndex: 500 entries, 0 to 499\n",
            "Data columns (total 4 columns):\n",
            " #   Column    Non-Null Count  Dtype  \n",
            "---  ------    --------------  -----  \n",
            " 0   survived  500 non-null    int64  \n",
            " 1   name      500 non-null    object \n",
            " 2   sex       500 non-null    object \n",
            " 3   age       451 non-null    float64\n",
            "dtypes: float64(1), int64(1), object(2)\n",
            "memory usage: 15.8+ KB\n"
          ]
        }
      ],
      "source": [
        "df.info()"
      ]
    },
    {
      "cell_type": "markdown",
      "id": "18D19OmCYfb0",
      "metadata": {
        "id": "18D19OmCYfb0"
      },
      "source": [
        "Okay, I see the data types of each column. Then, i focus on sex, its actuallt only has two values (Female or Male)--Well, unless youre in Thailand, you can have many value in there, hehehe kidding. Okay, i think i can change its types to categorical (The reason? i want to train myself to think about data efficiency, i know this is a small dataset, but i want to get used to thinking in terms of big data. i can’t afford to be arbitrary with data types, since that would be inefficient in the long run.)."
      ]
    },
    {
      "cell_type": "code",
      "execution_count": 126,
      "id": "Uv1Lq05KOF-w",
      "metadata": {
        "colab": {
          "base_uri": "https://localhost:8080/"
        },
        "id": "Uv1Lq05KOF-w",
        "outputId": "7b6156ee-411c-407c-b4fe-112d8570c7b5"
      },
      "outputs": [
        {
          "name": "stdout",
          "output_type": "stream",
          "text": [
            "<class 'pandas.core.frame.DataFrame'>\n",
            "RangeIndex: 500 entries, 0 to 499\n",
            "Data columns (total 4 columns):\n",
            " #   Column    Non-Null Count  Dtype   \n",
            "---  ------    --------------  -----   \n",
            " 0   survived  500 non-null    int64   \n",
            " 1   name      500 non-null    object  \n",
            " 2   sex       500 non-null    category\n",
            " 3   age       451 non-null    float64 \n",
            "dtypes: category(1), float64(1), int64(1), object(1)\n",
            "memory usage: 12.5+ KB\n"
          ]
        }
      ],
      "source": [
        "df['sex'] = df['sex'].astype('category')\n",
        "\n",
        "df.info()"
      ]
    },
    {
      "cell_type": "markdown",
      "id": "AG22Mu9kSMYW",
      "metadata": {
        "id": "AG22Mu9kSMYW"
      },
      "source": [
        "### Handling Miss Value"
      ]
    },
    {
      "cell_type": "markdown",
      "id": "vyF_1SrxZnc0",
      "metadata": {
        "id": "vyF_1SrxZnc0"
      },
      "source": [
        "Second, I have to see about the missing value, I just use isnull() for this part because it is more efficient in pandas."
      ]
    },
    {
      "cell_type": "code",
      "execution_count": 127,
      "id": "NOQ4JYPgOhkM",
      "metadata": {
        "colab": {
          "base_uri": "https://localhost:8080/",
          "height": 210
        },
        "id": "NOQ4JYPgOhkM",
        "outputId": "01fcc5d6-fe7d-410b-8348-237d38ac019c"
      },
      "outputs": [
        {
          "data": {
            "text/plain": [
              "survived     0\n",
              "name         0\n",
              "sex          0\n",
              "age         49\n",
              "dtype: int64"
            ]
          },
          "execution_count": 127,
          "metadata": {},
          "output_type": "execute_result"
        }
      ],
      "source": [
        "df.isnull().sum()"
      ]
    },
    {
      "cell_type": "markdown",
      "id": "UYWbVvioZ2VF",
      "metadata": {
        "id": "UYWbVvioZ2VF"
      },
      "source": [
        "I get it... there are 49 missing values in age, but I can't just fill them with mean/median, because I don't know about the distribution of the age column. I need to know about that."
      ]
    },
    {
      "cell_type": "code",
      "execution_count": 128,
      "id": "XsVQ1kWtOkgu",
      "metadata": {
        "colab": {
          "base_uri": "https://localhost:8080/",
          "height": 300
        },
        "id": "XsVQ1kWtOkgu",
        "outputId": "13e9d349-893d-4ffd-e8f1-8025b0874900"
      },
      "outputs": [
        {
          "data": {
            "text/html": [
              "<div>\n",
              "<style scoped>\n",
              "    .dataframe tbody tr th:only-of-type {\n",
              "        vertical-align: middle;\n",
              "    }\n",
              "\n",
              "    .dataframe tbody tr th {\n",
              "        vertical-align: top;\n",
              "    }\n",
              "\n",
              "    .dataframe thead th {\n",
              "        text-align: right;\n",
              "    }\n",
              "</style>\n",
              "<table border=\"1\" class=\"dataframe\">\n",
              "  <thead>\n",
              "    <tr style=\"text-align: right;\">\n",
              "      <th></th>\n",
              "      <th>survived</th>\n",
              "      <th>age</th>\n",
              "    </tr>\n",
              "  </thead>\n",
              "  <tbody>\n",
              "    <tr>\n",
              "      <th>count</th>\n",
              "      <td>500.000000</td>\n",
              "      <td>451.000000</td>\n",
              "    </tr>\n",
              "    <tr>\n",
              "      <th>mean</th>\n",
              "      <td>0.540000</td>\n",
              "      <td>35.917775</td>\n",
              "    </tr>\n",
              "    <tr>\n",
              "      <th>std</th>\n",
              "      <td>0.498897</td>\n",
              "      <td>14.766454</td>\n",
              "    </tr>\n",
              "    <tr>\n",
              "      <th>min</th>\n",
              "      <td>0.000000</td>\n",
              "      <td>0.666700</td>\n",
              "    </tr>\n",
              "    <tr>\n",
              "      <th>25%</th>\n",
              "      <td>0.000000</td>\n",
              "      <td>24.000000</td>\n",
              "    </tr>\n",
              "    <tr>\n",
              "      <th>50%</th>\n",
              "      <td>1.000000</td>\n",
              "      <td>35.000000</td>\n",
              "    </tr>\n",
              "    <tr>\n",
              "      <th>75%</th>\n",
              "      <td>1.000000</td>\n",
              "      <td>47.000000</td>\n",
              "    </tr>\n",
              "    <tr>\n",
              "      <th>max</th>\n",
              "      <td>1.000000</td>\n",
              "      <td>80.000000</td>\n",
              "    </tr>\n",
              "  </tbody>\n",
              "</table>\n",
              "</div>"
            ],
            "text/plain": [
              "         survived         age\n",
              "count  500.000000  451.000000\n",
              "mean     0.540000   35.917775\n",
              "std      0.498897   14.766454\n",
              "min      0.000000    0.666700\n",
              "25%      0.000000   24.000000\n",
              "50%      1.000000   35.000000\n",
              "75%      1.000000   47.000000\n",
              "max      1.000000   80.000000"
            ]
          },
          "execution_count": 128,
          "metadata": {},
          "output_type": "execute_result"
        }
      ],
      "source": [
        "df.describe()"
      ]
    },
    {
      "cell_type": "markdown",
      "id": "rsCjbCMWaN6t",
      "metadata": {
        "id": "rsCjbCMWaN6t"
      },
      "source": [
        "Ohh, the median value is 35 and the mean value is 35.9. Interesting, this makes me understand the distribution and makes it clear that the distribution is a normal distribution, we can use the mean() to fill in the missing values."
      ]
    },
    {
      "cell_type": "code",
      "execution_count": 129,
      "id": "HZmd8ee4O_DN",
      "metadata": {
        "id": "HZmd8ee4O_DN"
      },
      "outputs": [],
      "source": [
        "df['age'] = df['age'].fillna(df['age'].mean())"
      ]
    },
    {
      "cell_type": "code",
      "execution_count": 130,
      "id": "gwjt_AodPUvd",
      "metadata": {
        "colab": {
          "base_uri": "https://localhost:8080/",
          "height": 210
        },
        "id": "gwjt_AodPUvd",
        "outputId": "e690e155-dd81-4e65-b61d-9e3c3250f09b"
      },
      "outputs": [
        {
          "data": {
            "text/plain": [
              "survived    0\n",
              "name        0\n",
              "sex         0\n",
              "age         0\n",
              "dtype: int64"
            ]
          },
          "execution_count": 130,
          "metadata": {},
          "output_type": "execute_result"
        }
      ],
      "source": [
        "df.isnull().sum()"
      ]
    },
    {
      "cell_type": "markdown",
      "id": "7yblux7uSQDC",
      "metadata": {
        "id": "7yblux7uSQDC"
      },
      "source": [
        "### Handling Duplicated"
      ]
    },
    {
      "cell_type": "markdown",
      "id": "qGHL2MsNaeG6",
      "metadata": {
        "id": "qGHL2MsNaeG6"
      },
      "source": [
        "Okay, this is 3 out of 5 steps to clean data. In this part, we will see how to handle duplicated data. But before we start, I want to introduce to you about how Dibimbing makes me understand better how to see duplicated data with a simple formula which is data_without_duplication/total_data. I just found out about that, oh my god hahaha."
      ]
    },
    {
      "cell_type": "code",
      "execution_count": 131,
      "id": "vmhue5_YPW2q",
      "metadata": {
        "colab": {
          "base_uri": "https://localhost:8080/"
        },
        "id": "vmhue5_YPW2q",
        "outputId": "2213c011-85c0-467b-98b1-30db9196d5cb"
      },
      "outputs": [
        {
          "data": {
            "text/plain": [
              "0.998"
            ]
          },
          "execution_count": 131,
          "metadata": {},
          "output_type": "execute_result"
        }
      ],
      "source": [
        "(len(df.drop_duplicates()))/len(df)"
      ]
    },
    {
      "cell_type": "code",
      "execution_count": 132,
      "id": "DCVcHmaIQdvy",
      "metadata": {
        "id": "DCVcHmaIQdvy"
      },
      "outputs": [],
      "source": [
        "duplicates = df[df.duplicated(keep=False)]"
      ]
    },
    {
      "cell_type": "code",
      "execution_count": 133,
      "id": "IQ4TiQoDQqgz",
      "metadata": {
        "colab": {
          "base_uri": "https://localhost:8080/",
          "height": 125
        },
        "id": "IQ4TiQoDQqgz",
        "outputId": "4b77661a-bd50-491b-dfc5-d23281350e73"
      },
      "outputs": [
        {
          "data": {
            "text/html": [
              "<div>\n",
              "<style scoped>\n",
              "    .dataframe tbody tr th:only-of-type {\n",
              "        vertical-align: middle;\n",
              "    }\n",
              "\n",
              "    .dataframe tbody tr th {\n",
              "        vertical-align: top;\n",
              "    }\n",
              "\n",
              "    .dataframe thead th {\n",
              "        text-align: right;\n",
              "    }\n",
              "</style>\n",
              "<table border=\"1\" class=\"dataframe\">\n",
              "  <thead>\n",
              "    <tr style=\"text-align: right;\">\n",
              "      <th></th>\n",
              "      <th>survived</th>\n",
              "      <th>name</th>\n",
              "      <th>sex</th>\n",
              "      <th>age</th>\n",
              "    </tr>\n",
              "  </thead>\n",
              "  <tbody>\n",
              "    <tr>\n",
              "      <th>104</th>\n",
              "      <td>1</td>\n",
              "      <td>Eustis, Miss. Elizabeth Mussey</td>\n",
              "      <td>female</td>\n",
              "      <td>54.0</td>\n",
              "    </tr>\n",
              "    <tr>\n",
              "      <th>349</th>\n",
              "      <td>1</td>\n",
              "      <td>Eustis, Miss. Elizabeth Mussey</td>\n",
              "      <td>female</td>\n",
              "      <td>54.0</td>\n",
              "    </tr>\n",
              "  </tbody>\n",
              "</table>\n",
              "</div>"
            ],
            "text/plain": [
              "     survived                            name     sex   age\n",
              "104         1  Eustis, Miss. Elizabeth Mussey  female  54.0\n",
              "349         1  Eustis, Miss. Elizabeth Mussey  female  54.0"
            ]
          },
          "execution_count": 133,
          "metadata": {},
          "output_type": "execute_result"
        }
      ],
      "source": [
        "duplicates"
      ]
    },
    {
      "cell_type": "code",
      "execution_count": 134,
      "id": "YOPwejJHQrD3",
      "metadata": {
        "colab": {
          "base_uri": "https://localhost:8080/"
        },
        "id": "YOPwejJHQrD3",
        "outputId": "03dc4c72-aebb-4d06-81e8-705cb4d1d82b"
      },
      "outputs": [
        {
          "name": "stderr",
          "output_type": "stream",
          "text": [
            "C:\\Users\\azizl\\AppData\\Local\\Temp\\ipykernel_26476\\2521109664.py:1: FutureWarning: The default of observed=False is deprecated and will be changed to True in a future version of pandas. Pass observed=False to retain current behavior or observed=True to adopt the future default and silence this warning.\n",
            "  duplicates_count = duplicates.groupby(list(df.columns)).size().reset_index().rename(columns={0:'Duplikat'})\n"
          ]
        }
      ],
      "source": [
        "duplicates_count = duplicates.groupby(list(df.columns)).size().reset_index().rename(columns={0:'Duplikat'})"
      ]
    },
    {
      "cell_type": "code",
      "execution_count": 135,
      "id": "2uVt5xJeQ77W",
      "metadata": {
        "colab": {
          "base_uri": "https://localhost:8080/",
          "height": 125
        },
        "id": "2uVt5xJeQ77W",
        "outputId": "aca6ba74-61be-454f-a40b-d89857e4eb64"
      },
      "outputs": [
        {
          "data": {
            "text/html": [
              "<div>\n",
              "<style scoped>\n",
              "    .dataframe tbody tr th:only-of-type {\n",
              "        vertical-align: middle;\n",
              "    }\n",
              "\n",
              "    .dataframe tbody tr th {\n",
              "        vertical-align: top;\n",
              "    }\n",
              "\n",
              "    .dataframe thead th {\n",
              "        text-align: right;\n",
              "    }\n",
              "</style>\n",
              "<table border=\"1\" class=\"dataframe\">\n",
              "  <thead>\n",
              "    <tr style=\"text-align: right;\">\n",
              "      <th></th>\n",
              "      <th>survived</th>\n",
              "      <th>name</th>\n",
              "      <th>sex</th>\n",
              "      <th>age</th>\n",
              "      <th>Duplikat</th>\n",
              "    </tr>\n",
              "  </thead>\n",
              "  <tbody>\n",
              "    <tr>\n",
              "      <th>0</th>\n",
              "      <td>1</td>\n",
              "      <td>Eustis, Miss. Elizabeth Mussey</td>\n",
              "      <td>female</td>\n",
              "      <td>54.0</td>\n",
              "      <td>2</td>\n",
              "    </tr>\n",
              "    <tr>\n",
              "      <th>1</th>\n",
              "      <td>1</td>\n",
              "      <td>Eustis, Miss. Elizabeth Mussey</td>\n",
              "      <td>male</td>\n",
              "      <td>54.0</td>\n",
              "      <td>0</td>\n",
              "    </tr>\n",
              "  </tbody>\n",
              "</table>\n",
              "</div>"
            ],
            "text/plain": [
              "   survived                            name     sex   age  Duplikat\n",
              "0         1  Eustis, Miss. Elizabeth Mussey  female  54.0         2\n",
              "1         1  Eustis, Miss. Elizabeth Mussey    male  54.0         0"
            ]
          },
          "execution_count": 135,
          "metadata": {},
          "output_type": "execute_result"
        }
      ],
      "source": [
        "duplicates_count"
      ]
    },
    {
      "cell_type": "code",
      "execution_count": 136,
      "id": "cEjuSLyqRL3C",
      "metadata": {
        "id": "cEjuSLyqRL3C"
      },
      "outputs": [],
      "source": [
        "df = df.drop_duplicates()"
      ]
    },
    {
      "cell_type": "code",
      "execution_count": 137,
      "id": "8KD39kEMRTQ-",
      "metadata": {
        "colab": {
          "base_uri": "https://localhost:8080/"
        },
        "id": "8KD39kEMRTQ-",
        "outputId": "5ff37020-5b1a-4934-9914-59031e78cb76"
      },
      "outputs": [
        {
          "data": {
            "text/plain": [
              "1.0"
            ]
          },
          "execution_count": 137,
          "metadata": {},
          "output_type": "execute_result"
        }
      ],
      "source": [
        "(len(df.drop_duplicates()))/len(df)"
      ]
    },
    {
      "cell_type": "markdown",
      "id": "hdpVVh5WSUc5",
      "metadata": {
        "id": "hdpVVh5WSUc5"
      },
      "source": [
        "### Handling Inconsistent Data"
      ]
    },
    {
      "cell_type": "markdown",
      "id": "HqbgPqCdbcYU",
      "metadata": {
        "id": "HqbgPqCdbcYU"
      },
      "source": [
        "Okay, this is 4 out of 5 steps in cleaning the data. First, I know that df['survived'] only has two values which are 1 or 0, in the describe we know that there is no inconsistent data because min, max, quartile, and counts_values are normal, so I will skip about survived. Then we have to catch about age, in the describe, I see that min is 0.666 (Not logical for age), median is 35.9 (Not logical either), etc. So we will focus on age."
      ]
    },
    {
      "cell_type": "code",
      "execution_count": 138,
      "id": "GQRTNa3DSZkV",
      "metadata": {
        "colab": {
          "base_uri": "https://localhost:8080/",
          "height": 300
        },
        "id": "GQRTNa3DSZkV",
        "outputId": "a004c55b-a7f3-49e0-f9c9-855f7eb33c22"
      },
      "outputs": [
        {
          "data": {
            "text/html": [
              "<div>\n",
              "<style scoped>\n",
              "    .dataframe tbody tr th:only-of-type {\n",
              "        vertical-align: middle;\n",
              "    }\n",
              "\n",
              "    .dataframe tbody tr th {\n",
              "        vertical-align: top;\n",
              "    }\n",
              "\n",
              "    .dataframe thead th {\n",
              "        text-align: right;\n",
              "    }\n",
              "</style>\n",
              "<table border=\"1\" class=\"dataframe\">\n",
              "  <thead>\n",
              "    <tr style=\"text-align: right;\">\n",
              "      <th></th>\n",
              "      <th>survived</th>\n",
              "      <th>age</th>\n",
              "    </tr>\n",
              "  </thead>\n",
              "  <tbody>\n",
              "    <tr>\n",
              "      <th>count</th>\n",
              "      <td>499.000000</td>\n",
              "      <td>499.000000</td>\n",
              "    </tr>\n",
              "    <tr>\n",
              "      <th>mean</th>\n",
              "      <td>0.539078</td>\n",
              "      <td>35.881538</td>\n",
              "    </tr>\n",
              "    <tr>\n",
              "      <th>std</th>\n",
              "      <td>0.498971</td>\n",
              "      <td>14.013337</td>\n",
              "    </tr>\n",
              "    <tr>\n",
              "      <th>min</th>\n",
              "      <td>0.000000</td>\n",
              "      <td>0.666700</td>\n",
              "    </tr>\n",
              "    <tr>\n",
              "      <th>25%</th>\n",
              "      <td>0.000000</td>\n",
              "      <td>25.500000</td>\n",
              "    </tr>\n",
              "    <tr>\n",
              "      <th>50%</th>\n",
              "      <td>1.000000</td>\n",
              "      <td>35.917775</td>\n",
              "    </tr>\n",
              "    <tr>\n",
              "      <th>75%</th>\n",
              "      <td>1.000000</td>\n",
              "      <td>45.000000</td>\n",
              "    </tr>\n",
              "    <tr>\n",
              "      <th>max</th>\n",
              "      <td>1.000000</td>\n",
              "      <td>80.000000</td>\n",
              "    </tr>\n",
              "  </tbody>\n",
              "</table>\n",
              "</div>"
            ],
            "text/plain": [
              "         survived         age\n",
              "count  499.000000  499.000000\n",
              "mean     0.539078   35.881538\n",
              "std      0.498971   14.013337\n",
              "min      0.000000    0.666700\n",
              "25%      0.000000   25.500000\n",
              "50%      1.000000   35.917775\n",
              "75%      1.000000   45.000000\n",
              "max      1.000000   80.000000"
            ]
          },
          "execution_count": 138,
          "metadata": {},
          "output_type": "execute_result"
        }
      ],
      "source": [
        "df.describe()"
      ]
    },
    {
      "cell_type": "code",
      "execution_count": 139,
      "id": "7wx8dkEnSagF",
      "metadata": {
        "colab": {
          "base_uri": "https://localhost:8080/",
          "height": 1000
        },
        "id": "7wx8dkEnSagF",
        "outputId": "07ed34ab-5e3d-4c88-9421-748e8b86011b"
      },
      "outputs": [
        {
          "data": {
            "text/plain": [
              "age\n",
              "0.666700      1\n",
              "0.833300      1\n",
              "0.916700      1\n",
              "1.000000      3\n",
              "2.000000      1\n",
              "3.000000      1\n",
              "4.000000      2\n",
              "6.000000      2\n",
              "7.000000      1\n",
              "8.000000      3\n",
              "11.000000     1\n",
              "12.000000     1\n",
              "13.000000     1\n",
              "14.000000     1\n",
              "15.000000     2\n",
              "16.000000     4\n",
              "17.000000     7\n",
              "18.000000    14\n",
              "19.000000     8\n",
              "20.000000     2\n",
              "21.000000    11\n",
              "22.000000    12\n",
              "23.000000    11\n",
              "24.000000    23\n",
              "25.000000    11\n",
              "26.000000     7\n",
              "27.000000     9\n",
              "28.000000    12\n",
              "28.500000     1\n",
              "29.000000    10\n",
              "30.000000    20\n",
              "31.000000    11\n",
              "32.000000     7\n",
              "32.500000     1\n",
              "33.000000     8\n",
              "34.000000    10\n",
              "35.000000    14\n",
              "35.917775    49\n",
              "36.000000    19\n",
              "37.000000     6\n",
              "38.000000     8\n",
              "39.000000     9\n",
              "40.000000     8\n",
              "41.000000     3\n",
              "42.000000    14\n",
              "43.000000     4\n",
              "44.000000     6\n",
              "45.000000    14\n",
              "45.500000     1\n",
              "46.000000     5\n",
              "47.000000    10\n",
              "48.000000    11\n",
              "49.000000     8\n",
              "50.000000    10\n",
              "51.000000     5\n",
              "52.000000     6\n",
              "53.000000     4\n",
              "54.000000     9\n",
              "55.000000     8\n",
              "56.000000     4\n",
              "57.000000     5\n",
              "58.000000     6\n",
              "59.000000     1\n",
              "60.000000     7\n",
              "61.000000     4\n",
              "62.000000     4\n",
              "63.000000     3\n",
              "64.000000     5\n",
              "65.000000     2\n",
              "67.000000     1\n",
              "70.000000     1\n",
              "71.000000     2\n",
              "76.000000     1\n",
              "80.000000     1\n",
              "Name: count, dtype: int64"
            ]
          },
          "execution_count": 139,
          "metadata": {},
          "output_type": "execute_result"
        }
      ],
      "source": [
        "df['age'].value_counts().sort_index()"
      ]
    },
    {
      "cell_type": "markdown",
      "id": "8Xr_Cg21b_dd",
      "metadata": {
        "id": "8Xr_Cg21b_dd"
      },
      "source": [
        "Here, I know that the data is inconsistent if the data is less than 1 and the data is not an integer. So I will filter the data to see more details."
      ]
    },
    {
      "cell_type": "code",
      "execution_count": 140,
      "id": "0OZUK5v2SdgN",
      "metadata": {
        "colab": {
          "base_uri": "https://localhost:8080/",
          "height": 1000
        },
        "id": "0OZUK5v2SdgN",
        "outputId": "2d46abc6-a650-4836-fabb-8e63a334c6ee"
      },
      "outputs": [
        {
          "data": {
            "text/html": [
              "<div>\n",
              "<style scoped>\n",
              "    .dataframe tbody tr th:only-of-type {\n",
              "        vertical-align: middle;\n",
              "    }\n",
              "\n",
              "    .dataframe tbody tr th {\n",
              "        vertical-align: top;\n",
              "    }\n",
              "\n",
              "    .dataframe thead th {\n",
              "        text-align: right;\n",
              "    }\n",
              "</style>\n",
              "<table border=\"1\" class=\"dataframe\">\n",
              "  <thead>\n",
              "    <tr style=\"text-align: right;\">\n",
              "      <th></th>\n",
              "      <th>survived</th>\n",
              "      <th>name</th>\n",
              "      <th>sex</th>\n",
              "      <th>age</th>\n",
              "    </tr>\n",
              "  </thead>\n",
              "  <tbody>\n",
              "    <tr>\n",
              "      <th>428</th>\n",
              "      <td>1</td>\n",
              "      <td>Hamalainen, Master. Viljo</td>\n",
              "      <td>male</td>\n",
              "      <td>0.666700</td>\n",
              "    </tr>\n",
              "    <tr>\n",
              "      <th>360</th>\n",
              "      <td>1</td>\n",
              "      <td>Caldwell, Master. Alden Gates</td>\n",
              "      <td>male</td>\n",
              "      <td>0.833300</td>\n",
              "    </tr>\n",
              "    <tr>\n",
              "      <th>1</th>\n",
              "      <td>1</td>\n",
              "      <td>Allison, Master. Hudson Trevor</td>\n",
              "      <td>male</td>\n",
              "      <td>0.916700</td>\n",
              "    </tr>\n",
              "    <tr>\n",
              "      <th>222</th>\n",
              "      <td>0</td>\n",
              "      <td>Ovies y Rodriguez, Mr. Servando</td>\n",
              "      <td>male</td>\n",
              "      <td>28.500000</td>\n",
              "    </tr>\n",
              "    <tr>\n",
              "      <th>173</th>\n",
              "      <td>0</td>\n",
              "      <td>Keeping, Mr. Edwin</td>\n",
              "      <td>male</td>\n",
              "      <td>32.500000</td>\n",
              "    </tr>\n",
              "    <tr>\n",
              "      <th>59</th>\n",
              "      <td>1</td>\n",
              "      <td>Cassebeer, Mrs. Henry Arthur Jr (Eleanor Genev...</td>\n",
              "      <td>female</td>\n",
              "      <td>35.917775</td>\n",
              "    </tr>\n",
              "    <tr>\n",
              "      <th>46</th>\n",
              "      <td>0</td>\n",
              "      <td>Cairns, Mr. Alexander</td>\n",
              "      <td>male</td>\n",
              "      <td>35.917775</td>\n",
              "    </tr>\n",
              "    <tr>\n",
              "      <th>15</th>\n",
              "      <td>0</td>\n",
              "      <td>Baumann, Mr. John D</td>\n",
              "      <td>male</td>\n",
              "      <td>35.917775</td>\n",
              "    </tr>\n",
              "    <tr>\n",
              "      <th>74</th>\n",
              "      <td>0</td>\n",
              "      <td>Clifford, Mr. George Quincy</td>\n",
              "      <td>male</td>\n",
              "      <td>35.917775</td>\n",
              "    </tr>\n",
              "    <tr>\n",
              "      <th>80</th>\n",
              "      <td>0</td>\n",
              "      <td>Crafton, Mr. John Bertram</td>\n",
              "      <td>male</td>\n",
              "      <td>35.917775</td>\n",
              "    </tr>\n",
              "    <tr>\n",
              "      <th>106</th>\n",
              "      <td>0</td>\n",
              "      <td>Farthing, Mr. John</td>\n",
              "      <td>male</td>\n",
              "      <td>35.917775</td>\n",
              "    </tr>\n",
              "    <tr>\n",
              "      <th>107</th>\n",
              "      <td>1</td>\n",
              "      <td>Flegenheim, Mrs. Alfred (Antoinette)</td>\n",
              "      <td>female</td>\n",
              "      <td>35.917775</td>\n",
              "    </tr>\n",
              "    <tr>\n",
              "      <th>108</th>\n",
              "      <td>1</td>\n",
              "      <td>Fleming, Miss. Margaret</td>\n",
              "      <td>female</td>\n",
              "      <td>35.917775</td>\n",
              "    </tr>\n",
              "    <tr>\n",
              "      <th>118</th>\n",
              "      <td>0</td>\n",
              "      <td>Franklin, Mr. Thomas Parham</td>\n",
              "      <td>male</td>\n",
              "      <td>35.917775</td>\n",
              "    </tr>\n",
              "    <tr>\n",
              "      <th>37</th>\n",
              "      <td>1</td>\n",
              "      <td>Bradley, Mr. George (\"George Arthur Brayton\")</td>\n",
              "      <td>male</td>\n",
              "      <td>35.917775</td>\n",
              "    </tr>\n",
              "    <tr>\n",
              "      <th>40</th>\n",
              "      <td>0</td>\n",
              "      <td>Brewe, Dr. Arthur Jackson</td>\n",
              "      <td>male</td>\n",
              "      <td>35.917775</td>\n",
              "    </tr>\n",
              "    <tr>\n",
              "      <th>125</th>\n",
              "      <td>0</td>\n",
              "      <td>Fry, Mr. Richard</td>\n",
              "      <td>male</td>\n",
              "      <td>35.917775</td>\n",
              "    </tr>\n",
              "    <tr>\n",
              "      <th>121</th>\n",
              "      <td>1</td>\n",
              "      <td>Frauenthal, Mrs. Henry William (Clara Heinshei...</td>\n",
              "      <td>female</td>\n",
              "      <td>35.917775</td>\n",
              "    </tr>\n",
              "    <tr>\n",
              "      <th>152</th>\n",
              "      <td>1</td>\n",
              "      <td>Hawksford, Mr. Walter James</td>\n",
              "      <td>male</td>\n",
              "      <td>35.917775</td>\n",
              "    </tr>\n",
              "    <tr>\n",
              "      <th>134</th>\n",
              "      <td>1</td>\n",
              "      <td>Goldenberg, Mrs. Samuel L (Edwiga Grabowska)</td>\n",
              "      <td>female</td>\n",
              "      <td>35.917775</td>\n",
              "    </tr>\n",
              "    <tr>\n",
              "      <th>157</th>\n",
              "      <td>0</td>\n",
              "      <td>Hilliard, Mr. Herbert Henry</td>\n",
              "      <td>male</td>\n",
              "      <td>35.917775</td>\n",
              "    </tr>\n",
              "    <tr>\n",
              "      <th>166</th>\n",
              "      <td>0</td>\n",
              "      <td>Hoyt, Mr. William Fisher</td>\n",
              "      <td>male</td>\n",
              "      <td>35.917775</td>\n",
              "    </tr>\n",
              "    <tr>\n",
              "      <th>176</th>\n",
              "      <td>1</td>\n",
              "      <td>Kenyon, Mrs. Frederick R (Marion)</td>\n",
              "      <td>female</td>\n",
              "      <td>35.917775</td>\n",
              "    </tr>\n",
              "    <tr>\n",
              "      <th>147</th>\n",
              "      <td>0</td>\n",
              "      <td>Harrington, Mr. Charles H</td>\n",
              "      <td>male</td>\n",
              "      <td>35.917775</td>\n",
              "    </tr>\n",
              "    <tr>\n",
              "      <th>179</th>\n",
              "      <td>0</td>\n",
              "      <td>Klaber, Mr. Herman</td>\n",
              "      <td>male</td>\n",
              "      <td>35.917775</td>\n",
              "    </tr>\n",
              "    <tr>\n",
              "      <th>184</th>\n",
              "      <td>0</td>\n",
              "      <td>Lewy, Mr. Ervin G</td>\n",
              "      <td>male</td>\n",
              "      <td>35.917775</td>\n",
              "    </tr>\n",
              "    <tr>\n",
              "      <th>204</th>\n",
              "      <td>1</td>\n",
              "      <td>Meyer, Mrs. Edgar Joseph (Leila Saks)</td>\n",
              "      <td>female</td>\n",
              "      <td>35.917775</td>\n",
              "    </tr>\n",
              "    <tr>\n",
              "      <th>196</th>\n",
              "      <td>1</td>\n",
              "      <td>Marechal, Mr. Pierre</td>\n",
              "      <td>male</td>\n",
              "      <td>35.917775</td>\n",
              "    </tr>\n",
              "    <tr>\n",
              "      <th>219</th>\n",
              "      <td>1</td>\n",
              "      <td>Omont, Mr. Alfred Fernand</td>\n",
              "      <td>male</td>\n",
              "      <td>35.917775</td>\n",
              "    </tr>\n",
              "    <tr>\n",
              "      <th>223</th>\n",
              "      <td>0</td>\n",
              "      <td>Parr, Mr. William Henry Marsh</td>\n",
              "      <td>male</td>\n",
              "      <td>35.917775</td>\n",
              "    </tr>\n",
              "    <tr>\n",
              "      <th>69</th>\n",
              "      <td>1</td>\n",
              "      <td>Chibnall, Mrs. (Edith Martha Bowerman)</td>\n",
              "      <td>female</td>\n",
              "      <td>35.917775</td>\n",
              "    </tr>\n",
              "    <tr>\n",
              "      <th>70</th>\n",
              "      <td>0</td>\n",
              "      <td>Chisholm, Mr. Roderick Robert Crispin</td>\n",
              "      <td>male</td>\n",
              "      <td>35.917775</td>\n",
              "    </tr>\n",
              "    <tr>\n",
              "      <th>411</th>\n",
              "      <td>0</td>\n",
              "      <td>Frost, Mr. Anthony Wood \"Archie\"</td>\n",
              "      <td>male</td>\n",
              "      <td>35.917775</td>\n",
              "    </tr>\n",
              "    <tr>\n",
              "      <th>235</th>\n",
              "      <td>1</td>\n",
              "      <td>Rheims, Mr. George Alexander Lucien</td>\n",
              "      <td>male</td>\n",
              "      <td>35.917775</td>\n",
              "    </tr>\n",
              "    <tr>\n",
              "      <th>254</th>\n",
              "      <td>1</td>\n",
              "      <td>Saalfeld, Mr. Adolphe</td>\n",
              "      <td>male</td>\n",
              "      <td>35.917775</td>\n",
              "    </tr>\n",
              "    <tr>\n",
              "      <th>237</th>\n",
              "      <td>0</td>\n",
              "      <td>Robbins, Mr. Victor</td>\n",
              "      <td>male</td>\n",
              "      <td>35.917775</td>\n",
              "    </tr>\n",
              "    <tr>\n",
              "      <th>269</th>\n",
              "      <td>0</td>\n",
              "      <td>Smith, Mr. Richard William</td>\n",
              "      <td>male</td>\n",
              "      <td>35.917775</td>\n",
              "    </tr>\n",
              "    <tr>\n",
              "      <th>277</th>\n",
              "      <td>1</td>\n",
              "      <td>Spencer, Mrs. William Augustus (Marie Eugenie)</td>\n",
              "      <td>female</td>\n",
              "      <td>35.917775</td>\n",
              "    </tr>\n",
              "    <tr>\n",
              "      <th>283</th>\n",
              "      <td>0</td>\n",
              "      <td>Stewart, Mr. Albert A</td>\n",
              "      <td>male</td>\n",
              "      <td>35.917775</td>\n",
              "    </tr>\n",
              "    <tr>\n",
              "      <th>241</th>\n",
              "      <td>0</td>\n",
              "      <td>Rood, Mr. Hugh Roscoe</td>\n",
              "      <td>male</td>\n",
              "      <td>35.917775</td>\n",
              "    </tr>\n",
              "    <tr>\n",
              "      <th>293</th>\n",
              "      <td>1</td>\n",
              "      <td>Taylor, Mrs. Elmer Zebley (Juliet Cummins Wright)</td>\n",
              "      <td>female</td>\n",
              "      <td>35.917775</td>\n",
              "    </tr>\n",
              "    <tr>\n",
              "      <th>297</th>\n",
              "      <td>1</td>\n",
              "      <td>Thorne, Mrs. Gertrude Maybelle</td>\n",
              "      <td>female</td>\n",
              "      <td>35.917775</td>\n",
              "    </tr>\n",
              "    <tr>\n",
              "      <th>318</th>\n",
              "      <td>0</td>\n",
              "      <td>Williams-Lambert, Mr. Fletcher Fellows</td>\n",
              "      <td>male</td>\n",
              "      <td>35.917775</td>\n",
              "    </tr>\n",
              "    <tr>\n",
              "      <th>320</th>\n",
              "      <td>1</td>\n",
              "      <td>Woolner, Mr. Hugh</td>\n",
              "      <td>male</td>\n",
              "      <td>35.917775</td>\n",
              "    </tr>\n",
              "    <tr>\n",
              "      <th>364</th>\n",
              "      <td>0</td>\n",
              "      <td>Campbell, Mr. William</td>\n",
              "      <td>male</td>\n",
              "      <td>35.917775</td>\n",
              "    </tr>\n",
              "    <tr>\n",
              "      <th>383</th>\n",
              "      <td>0</td>\n",
              "      <td>Corey, Mrs. Percy C (Mary Phyllis Elizabeth Mi...</td>\n",
              "      <td>female</td>\n",
              "      <td>35.917775</td>\n",
              "    </tr>\n",
              "    <tr>\n",
              "      <th>385</th>\n",
              "      <td>0</td>\n",
              "      <td>Cunningham, Mr. Alfred Fleming</td>\n",
              "      <td>male</td>\n",
              "      <td>35.917775</td>\n",
              "    </tr>\n",
              "    <tr>\n",
              "      <th>256</th>\n",
              "      <td>1</td>\n",
              "      <td>Salomon, Mr. Abraham L</td>\n",
              "      <td>male</td>\n",
              "      <td>35.917775</td>\n",
              "    </tr>\n",
              "    <tr>\n",
              "      <th>484</th>\n",
              "      <td>1</td>\n",
              "      <td>Leitch, Miss. Jessie Wills</td>\n",
              "      <td>female</td>\n",
              "      <td>35.917775</td>\n",
              "    </tr>\n",
              "    <tr>\n",
              "      <th>470</th>\n",
              "      <td>1</td>\n",
              "      <td>Keane, Miss. Nora A</td>\n",
              "      <td>female</td>\n",
              "      <td>35.917775</td>\n",
              "    </tr>\n",
              "    <tr>\n",
              "      <th>474</th>\n",
              "      <td>0</td>\n",
              "      <td>Knight, Mr. Robert J</td>\n",
              "      <td>male</td>\n",
              "      <td>35.917775</td>\n",
              "    </tr>\n",
              "    <tr>\n",
              "      <th>478</th>\n",
              "      <td>0</td>\n",
              "      <td>Lamb, Mr. John Joseph</td>\n",
              "      <td>male</td>\n",
              "      <td>35.917775</td>\n",
              "    </tr>\n",
              "    <tr>\n",
              "      <th>496</th>\n",
              "      <td>0</td>\n",
              "      <td>Mangiavacchi, Mr. Serafino Emilio</td>\n",
              "      <td>male</td>\n",
              "      <td>35.917775</td>\n",
              "    </tr>\n",
              "    <tr>\n",
              "      <th>492</th>\n",
              "      <td>0</td>\n",
              "      <td>Malachard, Mr. Noel</td>\n",
              "      <td>male</td>\n",
              "      <td>35.917775</td>\n",
              "    </tr>\n",
              "    <tr>\n",
              "      <th>224</th>\n",
              "      <td>0</td>\n",
              "      <td>Partner, Mr. Austen</td>\n",
              "      <td>male</td>\n",
              "      <td>45.500000</td>\n",
              "    </tr>\n",
              "  </tbody>\n",
              "</table>\n",
              "</div>"
            ],
            "text/plain": [
              "     survived                                               name     sex  \\\n",
              "428         1                          Hamalainen, Master. Viljo    male   \n",
              "360         1                      Caldwell, Master. Alden Gates    male   \n",
              "1           1                     Allison, Master. Hudson Trevor    male   \n",
              "222         0                    Ovies y Rodriguez, Mr. Servando    male   \n",
              "173         0                                 Keeping, Mr. Edwin    male   \n",
              "59          1  Cassebeer, Mrs. Henry Arthur Jr (Eleanor Genev...  female   \n",
              "46          0                              Cairns, Mr. Alexander    male   \n",
              "15          0                                Baumann, Mr. John D    male   \n",
              "74          0                        Clifford, Mr. George Quincy    male   \n",
              "80          0                          Crafton, Mr. John Bertram    male   \n",
              "106         0                                 Farthing, Mr. John    male   \n",
              "107         1               Flegenheim, Mrs. Alfred (Antoinette)  female   \n",
              "108         1                            Fleming, Miss. Margaret  female   \n",
              "118         0                        Franklin, Mr. Thomas Parham    male   \n",
              "37          1      Bradley, Mr. George (\"George Arthur Brayton\")    male   \n",
              "40          0                          Brewe, Dr. Arthur Jackson    male   \n",
              "125         0                                   Fry, Mr. Richard    male   \n",
              "121         1  Frauenthal, Mrs. Henry William (Clara Heinshei...  female   \n",
              "152         1                        Hawksford, Mr. Walter James    male   \n",
              "134         1       Goldenberg, Mrs. Samuel L (Edwiga Grabowska)  female   \n",
              "157         0                        Hilliard, Mr. Herbert Henry    male   \n",
              "166         0                           Hoyt, Mr. William Fisher    male   \n",
              "176         1                  Kenyon, Mrs. Frederick R (Marion)  female   \n",
              "147         0                          Harrington, Mr. Charles H    male   \n",
              "179         0                                 Klaber, Mr. Herman    male   \n",
              "184         0                                  Lewy, Mr. Ervin G    male   \n",
              "204         1              Meyer, Mrs. Edgar Joseph (Leila Saks)  female   \n",
              "196         1                               Marechal, Mr. Pierre    male   \n",
              "219         1                          Omont, Mr. Alfred Fernand    male   \n",
              "223         0                      Parr, Mr. William Henry Marsh    male   \n",
              "69          1             Chibnall, Mrs. (Edith Martha Bowerman)  female   \n",
              "70          0              Chisholm, Mr. Roderick Robert Crispin    male   \n",
              "411         0                   Frost, Mr. Anthony Wood \"Archie\"    male   \n",
              "235         1                Rheims, Mr. George Alexander Lucien    male   \n",
              "254         1                              Saalfeld, Mr. Adolphe    male   \n",
              "237         0                                Robbins, Mr. Victor    male   \n",
              "269         0                         Smith, Mr. Richard William    male   \n",
              "277         1     Spencer, Mrs. William Augustus (Marie Eugenie)  female   \n",
              "283         0                              Stewart, Mr. Albert A    male   \n",
              "241         0                              Rood, Mr. Hugh Roscoe    male   \n",
              "293         1  Taylor, Mrs. Elmer Zebley (Juliet Cummins Wright)  female   \n",
              "297         1                     Thorne, Mrs. Gertrude Maybelle  female   \n",
              "318         0             Williams-Lambert, Mr. Fletcher Fellows    male   \n",
              "320         1                                  Woolner, Mr. Hugh    male   \n",
              "364         0                              Campbell, Mr. William    male   \n",
              "383         0  Corey, Mrs. Percy C (Mary Phyllis Elizabeth Mi...  female   \n",
              "385         0                     Cunningham, Mr. Alfred Fleming    male   \n",
              "256         1                             Salomon, Mr. Abraham L    male   \n",
              "484         1                         Leitch, Miss. Jessie Wills  female   \n",
              "470         1                                Keane, Miss. Nora A  female   \n",
              "474         0                               Knight, Mr. Robert J    male   \n",
              "478         0                              Lamb, Mr. John Joseph    male   \n",
              "496         0                  Mangiavacchi, Mr. Serafino Emilio    male   \n",
              "492         0                                Malachard, Mr. Noel    male   \n",
              "224         0                                Partner, Mr. Austen    male   \n",
              "\n",
              "           age  \n",
              "428   0.666700  \n",
              "360   0.833300  \n",
              "1     0.916700  \n",
              "222  28.500000  \n",
              "173  32.500000  \n",
              "59   35.917775  \n",
              "46   35.917775  \n",
              "15   35.917775  \n",
              "74   35.917775  \n",
              "80   35.917775  \n",
              "106  35.917775  \n",
              "107  35.917775  \n",
              "108  35.917775  \n",
              "118  35.917775  \n",
              "37   35.917775  \n",
              "40   35.917775  \n",
              "125  35.917775  \n",
              "121  35.917775  \n",
              "152  35.917775  \n",
              "134  35.917775  \n",
              "157  35.917775  \n",
              "166  35.917775  \n",
              "176  35.917775  \n",
              "147  35.917775  \n",
              "179  35.917775  \n",
              "184  35.917775  \n",
              "204  35.917775  \n",
              "196  35.917775  \n",
              "219  35.917775  \n",
              "223  35.917775  \n",
              "69   35.917775  \n",
              "70   35.917775  \n",
              "411  35.917775  \n",
              "235  35.917775  \n",
              "254  35.917775  \n",
              "237  35.917775  \n",
              "269  35.917775  \n",
              "277  35.917775  \n",
              "283  35.917775  \n",
              "241  35.917775  \n",
              "293  35.917775  \n",
              "297  35.917775  \n",
              "318  35.917775  \n",
              "320  35.917775  \n",
              "364  35.917775  \n",
              "383  35.917775  \n",
              "385  35.917775  \n",
              "256  35.917775  \n",
              "484  35.917775  \n",
              "470  35.917775  \n",
              "474  35.917775  \n",
              "478  35.917775  \n",
              "496  35.917775  \n",
              "492  35.917775  \n",
              "224  45.500000  "
            ]
          },
          "execution_count": 140,
          "metadata": {},
          "output_type": "execute_result"
        }
      ],
      "source": [
        "df[(df['age'] < 1) | (df['age'] % 1 != 0)].sort_values('age')"
      ]
    },
    {
      "cell_type": "markdown",
      "id": "VC_72NOuc-aB",
      "metadata": {
        "id": "VC_72NOuc-aB"
      },
      "source": [
        "Okay, I got it. I will change the data where when the age is less than 1, I will change it to 1 and if the data is not an integer, I will round the data."
      ]
    },
    {
      "cell_type": "code",
      "execution_count": 141,
      "id": "iSa4WEr6Sk71",
      "metadata": {
        "id": "iSa4WEr6Sk71"
      },
      "outputs": [],
      "source": [
        "df.loc[df['age'] < 1, 'age'] = 1"
      ]
    },
    {
      "cell_type": "code",
      "execution_count": 142,
      "id": "vWtCBONtUe9I",
      "metadata": {
        "colab": {
          "base_uri": "https://localhost:8080/",
          "height": 53
        },
        "id": "vWtCBONtUe9I",
        "outputId": "d3b9e435-51e5-4e15-b932-9b8c4219dc93"
      },
      "outputs": [
        {
          "data": {
            "text/html": [
              "<div>\n",
              "<style scoped>\n",
              "    .dataframe tbody tr th:only-of-type {\n",
              "        vertical-align: middle;\n",
              "    }\n",
              "\n",
              "    .dataframe tbody tr th {\n",
              "        vertical-align: top;\n",
              "    }\n",
              "\n",
              "    .dataframe thead th {\n",
              "        text-align: right;\n",
              "    }\n",
              "</style>\n",
              "<table border=\"1\" class=\"dataframe\">\n",
              "  <thead>\n",
              "    <tr style=\"text-align: right;\">\n",
              "      <th></th>\n",
              "      <th>survived</th>\n",
              "      <th>name</th>\n",
              "      <th>sex</th>\n",
              "      <th>age</th>\n",
              "    </tr>\n",
              "  </thead>\n",
              "  <tbody>\n",
              "  </tbody>\n",
              "</table>\n",
              "</div>"
            ],
            "text/plain": [
              "Empty DataFrame\n",
              "Columns: [survived, name, sex, age]\n",
              "Index: []"
            ]
          },
          "execution_count": 142,
          "metadata": {},
          "output_type": "execute_result"
        }
      ],
      "source": [
        "df[df['age'] < 1]"
      ]
    },
    {
      "cell_type": "code",
      "execution_count": 143,
      "id": "f3I0Ls-CUkJv",
      "metadata": {
        "id": "f3I0Ls-CUkJv"
      },
      "outputs": [],
      "source": [
        "df.loc[df['age'] % 1 != 0, 'age'] = df['age'].round()"
      ]
    },
    {
      "cell_type": "code",
      "execution_count": 144,
      "id": "dl8-lh8sU_05",
      "metadata": {
        "colab": {
          "base_uri": "https://localhost:8080/",
          "height": 53
        },
        "id": "dl8-lh8sU_05",
        "outputId": "6d70dfae-2901-4ab0-f72b-7c14dd0f9768"
      },
      "outputs": [
        {
          "data": {
            "text/html": [
              "<div>\n",
              "<style scoped>\n",
              "    .dataframe tbody tr th:only-of-type {\n",
              "        vertical-align: middle;\n",
              "    }\n",
              "\n",
              "    .dataframe tbody tr th {\n",
              "        vertical-align: top;\n",
              "    }\n",
              "\n",
              "    .dataframe thead th {\n",
              "        text-align: right;\n",
              "    }\n",
              "</style>\n",
              "<table border=\"1\" class=\"dataframe\">\n",
              "  <thead>\n",
              "    <tr style=\"text-align: right;\">\n",
              "      <th></th>\n",
              "      <th>survived</th>\n",
              "      <th>name</th>\n",
              "      <th>sex</th>\n",
              "      <th>age</th>\n",
              "    </tr>\n",
              "  </thead>\n",
              "  <tbody>\n",
              "  </tbody>\n",
              "</table>\n",
              "</div>"
            ],
            "text/plain": [
              "Empty DataFrame\n",
              "Columns: [survived, name, sex, age]\n",
              "Index: []"
            ]
          },
          "execution_count": 144,
          "metadata": {},
          "output_type": "execute_result"
        }
      ],
      "source": [
        "df[df['age']%1 != 0]"
      ]
    },
    {
      "cell_type": "code",
      "execution_count": 145,
      "id": "hKxoB4CNVcbp",
      "metadata": {
        "colab": {
          "base_uri": "https://localhost:8080/",
          "height": 300
        },
        "id": "hKxoB4CNVcbp",
        "outputId": "276ea0e0-d854-4d38-8af9-48bfe25378ce"
      },
      "outputs": [
        {
          "data": {
            "text/html": [
              "<div>\n",
              "<style scoped>\n",
              "    .dataframe tbody tr th:only-of-type {\n",
              "        vertical-align: middle;\n",
              "    }\n",
              "\n",
              "    .dataframe tbody tr th {\n",
              "        vertical-align: top;\n",
              "    }\n",
              "\n",
              "    .dataframe thead th {\n",
              "        text-align: right;\n",
              "    }\n",
              "</style>\n",
              "<table border=\"1\" class=\"dataframe\">\n",
              "  <thead>\n",
              "    <tr style=\"text-align: right;\">\n",
              "      <th></th>\n",
              "      <th>survived</th>\n",
              "      <th>age</th>\n",
              "    </tr>\n",
              "  </thead>\n",
              "  <tbody>\n",
              "    <tr>\n",
              "      <th>count</th>\n",
              "      <td>499.000000</td>\n",
              "      <td>499.000000</td>\n",
              "    </tr>\n",
              "    <tr>\n",
              "      <th>mean</th>\n",
              "      <td>0.539078</td>\n",
              "      <td>35.889780</td>\n",
              "    </tr>\n",
              "    <tr>\n",
              "      <th>std</th>\n",
              "      <td>0.498971</td>\n",
              "      <td>14.011967</td>\n",
              "    </tr>\n",
              "    <tr>\n",
              "      <th>min</th>\n",
              "      <td>0.000000</td>\n",
              "      <td>1.000000</td>\n",
              "    </tr>\n",
              "    <tr>\n",
              "      <th>25%</th>\n",
              "      <td>0.000000</td>\n",
              "      <td>25.500000</td>\n",
              "    </tr>\n",
              "    <tr>\n",
              "      <th>50%</th>\n",
              "      <td>1.000000</td>\n",
              "      <td>36.000000</td>\n",
              "    </tr>\n",
              "    <tr>\n",
              "      <th>75%</th>\n",
              "      <td>1.000000</td>\n",
              "      <td>45.000000</td>\n",
              "    </tr>\n",
              "    <tr>\n",
              "      <th>max</th>\n",
              "      <td>1.000000</td>\n",
              "      <td>80.000000</td>\n",
              "    </tr>\n",
              "  </tbody>\n",
              "</table>\n",
              "</div>"
            ],
            "text/plain": [
              "         survived         age\n",
              "count  499.000000  499.000000\n",
              "mean     0.539078   35.889780\n",
              "std      0.498971   14.011967\n",
              "min      0.000000    1.000000\n",
              "25%      0.000000   25.500000\n",
              "50%      1.000000   36.000000\n",
              "75%      1.000000   45.000000\n",
              "max      1.000000   80.000000"
            ]
          },
          "execution_count": 145,
          "metadata": {},
          "output_type": "execute_result"
        }
      ],
      "source": [
        "df.describe()"
      ]
    },
    {
      "cell_type": "markdown",
      "id": "mT4fe__DWhLL",
      "metadata": {
        "id": "mT4fe__DWhLL"
      },
      "source": [
        "### Outlier Check"
      ]
    },
    {
      "cell_type": "code",
      "execution_count": 146,
      "id": "zPlGyrreWk6r",
      "metadata": {
        "colab": {
          "base_uri": "https://localhost:8080/"
        },
        "id": "zPlGyrreWk6r",
        "outputId": "0eb58fb3-8a77-4b87-9cc0-0164965c8fe2"
      },
      "outputs": [
        {
          "name": "stdout",
          "output_type": "stream",
          "text": [
            "survived\n",
            "1    269\n",
            "0    230\n",
            "Name: count, dtype: int64\n"
          ]
        }
      ],
      "source": [
        "\"\"\"Actually we can see in describe for this variabel, beacuse its categorical\n",
        "and its just have two option (1 or 0)\"\"\"\n",
        "print(df['survived'].value_counts())"
      ]
    },
    {
      "cell_type": "code",
      "execution_count": 147,
      "id": "wW7USU8YW5hl",
      "metadata": {
        "id": "wW7USU8YW5hl"
      },
      "outputs": [],
      "source": [
        "Q1 = df['age'].quantile(0.25)\n",
        "Q3 = df['age'].quantile(0.75)\n",
        "IQR = Q3 - Q1\n",
        "\n",
        "batas_atas = Q3 + (1.5 * IQR)\n",
        "batas_bawah = Q1 - (1.5 * IQR)\n",
        "\n",
        "outliers = df[(df['age'] > batas_atas) | (df['age'] < batas_bawah)]"
      ]
    },
    {
      "cell_type": "code",
      "execution_count": 148,
      "id": "XNBlXzFpXUgA",
      "metadata": {
        "colab": {
          "base_uri": "https://localhost:8080/",
          "height": 125
        },
        "id": "XNBlXzFpXUgA",
        "outputId": "dad8fee8-7f6f-4cea-fdea-d32ea32784b6"
      },
      "outputs": [
        {
          "data": {
            "text/html": [
              "<div>\n",
              "<style scoped>\n",
              "    .dataframe tbody tr th:only-of-type {\n",
              "        vertical-align: middle;\n",
              "    }\n",
              "\n",
              "    .dataframe tbody tr th {\n",
              "        vertical-align: top;\n",
              "    }\n",
              "\n",
              "    .dataframe thead th {\n",
              "        text-align: right;\n",
              "    }\n",
              "</style>\n",
              "<table border=\"1\" class=\"dataframe\">\n",
              "  <thead>\n",
              "    <tr style=\"text-align: right;\">\n",
              "      <th></th>\n",
              "      <th>survived</th>\n",
              "      <th>name</th>\n",
              "      <th>sex</th>\n",
              "      <th>age</th>\n",
              "    </tr>\n",
              "  </thead>\n",
              "  <tbody>\n",
              "    <tr>\n",
              "      <th>14</th>\n",
              "      <td>1</td>\n",
              "      <td>Barkworth, Mr. Algernon Henry Wilson</td>\n",
              "      <td>male</td>\n",
              "      <td>80.0</td>\n",
              "    </tr>\n",
              "    <tr>\n",
              "      <th>61</th>\n",
              "      <td>1</td>\n",
              "      <td>Cavendish, Mrs. Tyrell William (Julia Florence...</td>\n",
              "      <td>female</td>\n",
              "      <td>76.0</td>\n",
              "    </tr>\n",
              "  </tbody>\n",
              "</table>\n",
              "</div>"
            ],
            "text/plain": [
              "    survived                                               name     sex   age\n",
              "14         1               Barkworth, Mr. Algernon Henry Wilson    male  80.0\n",
              "61         1  Cavendish, Mrs. Tyrell William (Julia Florence...  female  76.0"
            ]
          },
          "execution_count": 148,
          "metadata": {},
          "output_type": "execute_result"
        }
      ],
      "source": [
        "outliers"
      ]
    },
    {
      "cell_type": "markdown",
      "id": "b58d8b77",
      "metadata": {},
      "source": [
        "80 and 76 years old are normal ages for Titanic passengers, I will not delete the data."
      ]
    },
    {
      "cell_type": "markdown",
      "id": "c580d234",
      "metadata": {},
      "source": [
        "### Visualisasi\n",
        "Okay, by this time I have finished doing the EDA. In the bonus part I will do some visualizations for the purpose of having information in visual form"
      ]
    },
    {
      "cell_type": "code",
      "execution_count": 170,
      "id": "a4ccad70",
      "metadata": {},
      "outputs": [
        {
          "name": "stdout",
          "output_type": "stream",
          "text": [
            "Value of Passengers:\n",
            "sex\n",
            "male      288\n",
            "female    211\n",
            "Name: count, dtype: int64\n"
          ]
        },
        {
          "data": {
            "image/png": "[encoded data removed]",
            "text/plain": [
              "<Figure size 1000x500 with 1 Axes>"
            ]
          },
          "metadata": {},
          "output_type": "display_data"
        }
      ],
      "source": [
        "print(f'Value of Passengers:\\n{df['sex'].value_counts()}')\n",
        "\n",
        "plt.figure(figsize=(10, 5))\n",
        "plt.pie(df['sex'].value_counts(), labels=['Female', 'Male'], autopct='%1.1f%%', startangle=90, colors=['salmon', 'skyblue'])\n",
        "plt.title('Persentage of Passengers by Sex')\n",
        "plt.show()"
      ]
    },
    {
      "cell_type": "code",
      "execution_count": 181,
      "id": "5db2da2b",
      "metadata": {},
      "outputs": [
        {
          "name": "stdout",
          "output_type": "stream",
          "text": [
            "Survived and Non-Survived: survived\n",
            "1    269\n",
            "0    230\n",
            "Name: count, dtype: int64\n"
          ]
        },
        {
          "data": {
            "image/png": "[encoded data removed]",
            "text/plain": [
              "<Figure size 1000x500 with 1 Axes>"
            ]
          },
          "metadata": {},
          "output_type": "display_data"
        }
      ],
      "source": [
        "print(f'Survived and Non-Survived: {df[\"survived\"].value_counts()}')\n",
        "\n",
        "plt.figure(figsize=(10, 5))\n",
        "plt.pie(df['survived'].value_counts(), labels=['Non-Survived', 'Survived'], autopct='%1.1f%%', startangle=90, colors=['salmon', 'skyblue'])\n",
        "plt.title('Survived vs Non-Survived')\n",
        "plt.show()"
      ]
    },
    {
      "cell_type": "code",
      "execution_count": 171,
      "id": "4d186b9a",
      "metadata": {},
      "outputs": [
        {
          "name": "stdout",
          "output_type": "stream",
          "text": [
            "Value of Passengers that Survived:\n",
            "sex\n",
            "female    196\n",
            "male       73\n",
            "Name: count, dtype: int64\n"
          ]
        },
        {
          "data": {
            "image/png": "[encoded data removed]",
            "text/plain": [
              "<Figure size 1000x500 with 1 Axes>"
            ]
          },
          "metadata": {},
          "output_type": "display_data"
        }
      ],
      "source": [
        "print(f'Value of Passengers that Survived:\\n{df[df['survived'] == 1]['sex'].value_counts()}')\n",
        "\n",
        "plt.figure(figsize=(10, 5))\n",
        "plt.pie(df[df['survived'] == 1]['sex'].value_counts(), labels=['Female', 'Male'], autopct='%1.1f%%', startangle=90, colors=['salmon', 'skyblue'])\n",
        "plt.title('Female vs Male that survived')\n",
        "plt.show()"
      ]
    },
    {
      "cell_type": "code",
      "execution_count": 184,
      "id": "004ed605",
      "metadata": {},
      "outputs": [
        {
          "data": {
            "text/plain": [
              "Text(0.5, 0, 'Age')"
            ]
          },
          "execution_count": 184,
          "metadata": {},
          "output_type": "execute_result"
        },
        {
          "data": {
            "image/png": "[encoded data removed]",
            "text/plain": [
              "<Figure size 1500x500 with 2 Axes>"
            ]
          },
          "metadata": {},
          "output_type": "display_data"
        }
      ],
      "source": [
        "fig, ax = plt.subplots(1, 2, figsize=(15, 5))\n",
        "sns.histplot(df[df['survived'] == 1]['age'], bins=30, kde=True, ax = ax[0], color='blue')\n",
        "ax[0].set_title('Age Distribution of Survivors')\n",
        "ax[0].set_xlabel('Age')\n",
        "\n",
        "sns.histplot(df[df['survived'] == 0]['age'], bins=30, kde=True, ax = ax[1], color='red')\n",
        "ax[1].set_title('Age Distribution of Non-Survivors')\n",
        "ax[1].set_xlabel('Age')"
      ]
    },
    {
      "cell_type": "code",
      "execution_count": 151,
      "id": "e0be6edb",
      "metadata": {},
      "outputs": [
        {
          "data": {
            "image/png": "[encoded data removed]",
            "text/plain": [
              "<Figure size 1200x500 with 1 Axes>"
            ]
          },
          "metadata": {},
          "output_type": "display_data"
        }
      ],
      "source": [
        "bins = [0, 12, 18, 60, 100]\n",
        "labels = ['Child', 'Teen', 'Adult', 'Parents']\n",
        "df['age_category'] = pd.cut(df['age'], bins=bins, labels=labels, right=False)\n",
        "\n",
        "survived_females = df[(df['survived'] == 1) & (df['sex'] == 'female')]\n",
        "non_survived_females = df[(df['survived'] == 0) & (df['sex'] == 'female')]\n",
        "\n",
        "age_category_survived = survived_females['age_category'].value_counts().reindex(labels)\n",
        "without_adult_survived = age_category_survived.drop('Adult')\n",
        "age_category_non = non_survived_females['age_category'].value_counts().reindex(labels)\n",
        "without_adult_non = age_category_non.drop('Adult')\n",
        "\n",
        "\n",
        "fig, ax = plt.subplots(figsize=(12, 5))\n",
        "ax.bar(without_adult_survived.index, without_adult_survived.values, color='skyblue', edgecolor='black')\n",
        "ax.bar(without_adult_non.index, without_adult_non.values, color='salmon', edgecolor='black')\n",
        "ax.set_title('Comparison of Survived and Non-Survived')\n",
        "ax.set_xlabel('Age Category')\n",
        "ax.set_ylabel('Count')\n",
        "ax.legend(['Survived', 'Did Not Survive'], loc='upper right')\n",
        "plt.tight_layout()\n",
        "plt.show()"
      ]
    },
    {
      "cell_type": "code",
      "execution_count": 185,
      "id": "493b9963",
      "metadata": {},
      "outputs": [
        {
          "data": {
            "text/plain": [
              "Text(0.5, 0, 'Age')"
            ]
          },
          "execution_count": 185,
          "metadata": {},
          "output_type": "execute_result"
        },
        {
          "data": {
            "image/png": "[encoded data removed]",
            "text/plain": [
              "<Figure size 1500x500 with 2 Axes>"
            ]
          },
          "metadata": {},
          "output_type": "display_data"
        }
      ],
      "source": [
        "fig, ax = plt.subplots(1, 2, figsize=(15, 5))\n",
        "sns.histplot(df[(df['survived'] == 1) & (df['sex'] == 'female')]['age'], bins=10, kde=True, ax = ax[0], color='blue')\n",
        "ax[0].set_title('Age Distribution of Survivors at Female')\n",
        "ax[0].set_xlabel('Age')\n",
        "\n",
        "sns.histplot(df[(df['survived'] == 0) & (df['sex'] == 'female')]['age'], bins=10, kde=True, ax = ax[1], color='red')\n",
        "ax[1].set_title('Age Distribution of Non-Survivors at Female')\n",
        "ax[1].set_xlabel('Age')"
      ]
    },
    {
      "cell_type": "code",
      "execution_count": 153,
      "id": "dc971b5a",
      "metadata": {},
      "outputs": [
        {
          "data": {
            "image/png": "[encoded data removed]",
            "text/plain": [
              "<Figure size 1200x500 with 1 Axes>"
            ]
          },
          "metadata": {},
          "output_type": "display_data"
        }
      ],
      "source": [
        "bins = [0, 12, 18, 60, 100]\n",
        "labels = ['Child', 'Teen', 'Adult', 'Parents']\n",
        "df['age_category'] = pd.cut(df['age'], bins=bins, labels=labels, right=False)\n",
        "\n",
        "survived_males = df[(df['survived'] == 1) & (df['sex'] == 'male')]\n",
        "non_survived_males = df[(df['survived'] == 0) & (df['sex'] == 'male')]\n",
        "\n",
        "age_category_survived_male = survived_males['age_category'].value_counts().reindex(labels)\n",
        "without_adult_survived_male = age_category_survived_male.drop('Adult')\n",
        "age_category_non_male = non_survived_males['age_category'].value_counts().reindex(labels)\n",
        "without_adult_non_male = age_category_non_male.drop('Adult')\n",
        "\n",
        "\n",
        "fig, ax = plt.subplots(figsize=(12, 5))\n",
        "ax.bar(without_adult_survived_male.index, without_adult_survived_male.values, color='skyblue', edgecolor='black')\n",
        "ax.bar(without_adult_non_male.index, without_adult_non_male.values, color='salmon', edgecolor='black')\n",
        "ax.set_title('Comparison of Survived and Non-Survived in Male')\n",
        "ax.set_xlabel('Age Category')\n",
        "ax.set_ylabel('Count')\n",
        "ax.legend(['Survived', 'Did Not Survive'], loc='upper right')\n",
        "plt.tight_layout()\n",
        "plt.show()"
      ]
    },
    {
      "cell_type": "code",
      "execution_count": 154,
      "id": "ed373866",
      "metadata": {},
      "outputs": [
        {
          "data": {
            "text/plain": [
              "Text(0.5, 0, 'Age')"
            ]
          },
          "execution_count": 154,
          "metadata": {},
          "output_type": "execute_result"
        },
        {
          "data": {
            "image/png": "[encoded data removed]",
            "text/plain": [
              "<Figure size 1500x500 with 2 Axes>"
            ]
          },
          "metadata": {},
          "output_type": "display_data"
        }
      ],
      "source": [
        "fig, ax = plt.subplots(1, 2, figsize=(15, 5))\n",
        "sns.histplot(df[(df['survived'] == 1) & (df['sex'] == 'male')]['age'], bins=10, kde=True, ax = ax[0], color='skyblue')\n",
        "ax[0].set_title('Age Distribution of Survivors in Male')\n",
        "ax[0].set_xlabel('Age')\n",
        "\n",
        "sns.histplot(df[(df['survived'] == 0) & (df['sex'] == 'male')]['age'], bins=10, kde=True, ax = ax[1], color='salmon')\n",
        "ax[1].set_title('Age Distribution of Non-Survivors in Male')\n",
        "ax[1].set_xlabel('Age')"
      ]
    },
    {
      "cell_type": "markdown",
      "id": "efcbe23d",
      "metadata": {},
      "source": [
        "### What insights can I take away from this visualization?\n",
        "\n",
        "Okay.\n",
        "1. I know that 70% of survivors are female\n",
        "2. The age distribution of female survivors is majority Teenagers\n",
        "3. The age distribution of male survivors is majority Children \n",
        "4. The age distribution of male non-survivors is majority Adults or Parents\n",
        "\n",
        "This means that in the accident, the first to be prioritized are teenagers, children, and female. Therefore, we can say that the male in that incident sacrificed themselves for female. \n",
        "\n",
        "This brings a new insight, which is that there is a possibility that the means of rescue could not accommodate everyone, so some had to sacrifice themselves."
      ]
    },
    {
      "cell_type": "markdown",
      "id": "L2T0H8PfdZ33",
      "metadata": {
        "id": "L2T0H8PfdZ33"
      },
      "source": [
        "---\n",
        "\n",
        "\n",
        "## END\n",
        "\n",
        "That's how to clean data and how to extract information from data. Thank you :)"
      ]
    }
  ],
  "metadata": {
    "colab": {
      "provenance": []
    },
    "kernelspec": {
      "display_name": "Python 3",
      "language": "python",
      "name": "python3"
    },
    "language_info": {
      "codemirror_mode": {
        "name": "ipython",
        "version": 3
      },
      "file_extension": ".py",
      "mimetype": "text/x-python",
      "name": "python",
      "nbconvert_exporter": "python",
      "pygments_lexer": "ipython3",
      "version": "3.13.2"
    }
  },
  "nbformat": 4,
  "nbformat_minor": 5
}
